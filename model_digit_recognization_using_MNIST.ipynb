{
 "cells": [
  {
   "cell_type": "code",
   "execution_count": 28,
   "id": "076a51f2",
   "metadata": {},
   "outputs": [],
   "source": [
    "# import required libraries \n",
    "import os\n",
    "import cv2\n",
    "import numpy as np\n",
    "import pandas as pd\n",
    "import matplotlib.pyplot as plt\n",
    "import tensorflow as tf\n",
    "from tensorflow.keras.preprocessing.image import ImageDataGenerator\n",
    "from tensorflow.keras.optimizers import Adam\n",
    "from tensorflow.keras.callbacks import LearningRateScheduler\n",
    "from tensorflow.keras.callbacks import EarlyStopping\n",
    "from sklearn.model_selection import train_test_split"
   ]
  },
  {
   "cell_type": "code",
   "execution_count": 11,
   "id": "df60afd3",
   "metadata": {},
   "outputs": [],
   "source": [
    "# import dataset\n",
    "mnist=tf.keras.datasets.mnist\n",
    "(X_train,y_train),(X_test,y_test)=mnist.load_data()"
   ]
  },
  {
   "cell_type": "code",
   "execution_count": 12,
   "id": "63b9f51f",
   "metadata": {},
   "outputs": [],
   "source": [
    "# normalize the data\n",
    "X_train=tf.keras.utils.normalize(X_train,axis=1)\n",
    "X_test=tf.keras.utils.normalize(X_test,axis=1)"
   ]
  },
  {
   "cell_type": "code",
   "execution_count": 29,
   "id": "2b2a8d4a",
   "metadata": {},
   "outputs": [],
   "source": [
    "X_train, X_val, y_train, y_val = train_test_split(X_train, y_train, test_size=0.2, random_state=42)"
   ]
  },
  {
   "cell_type": "code",
   "execution_count": 30,
   "id": "75592227",
   "metadata": {},
   "outputs": [
    {
     "name": "stdout",
     "output_type": "stream",
     "text": [
      "Epoch 1/3\n",
      "1500/1500 [==============================] - 84s 55ms/step - loss: 0.9467 - accuracy: 0.6928\n",
      "Epoch 2/3\n",
      "1500/1500 [==============================] - 61s 41ms/step - loss: 0.5278 - accuracy: 0.8387\n",
      "Epoch 3/3\n",
      "1500/1500 [==============================] - 66s 44ms/step - loss: 0.4424 - accuracy: 0.8651\n",
      "Epoch 1/3\n",
      "1500/1500 [==============================] - 21s 14ms/step - loss: 0.2087 - accuracy: 0.9393 - lr: 0.0010\n",
      "Epoch 2/3\n",
      "1500/1500 [==============================] - 18s 12ms/step - loss: 0.1547 - accuracy: 0.9548 - lr: 9.0484e-04\n",
      "Epoch 3/3\n",
      "1500/1500 [==============================] - 24s 16ms/step - loss: 0.1355 - accuracy: 0.9587 - lr: 8.1873e-04\n",
      "Epoch 1/20\n",
      "1500/1500 [==============================] - 35s 24ms/step - loss: 0.1252 - accuracy: 0.9634 - val_loss: 0.0812 - val_accuracy: 0.9753\n",
      "Epoch 2/20\n",
      "1500/1500 [==============================] - 38s 26ms/step - loss: 0.1168 - accuracy: 0.9652 - val_loss: 0.0808 - val_accuracy: 0.9761\n",
      "Epoch 3/20\n",
      "1500/1500 [==============================] - 18s 12ms/step - loss: 0.1030 - accuracy: 0.9693 - val_loss: 0.0777 - val_accuracy: 0.9773\n",
      "Epoch 4/20\n",
      "1500/1500 [==============================] - 19s 13ms/step - loss: 0.1002 - accuracy: 0.9699 - val_loss: 0.0739 - val_accuracy: 0.9788\n",
      "Epoch 5/20\n",
      "1500/1500 [==============================] - 33s 22ms/step - loss: 0.0949 - accuracy: 0.9712 - val_loss: 0.0766 - val_accuracy: 0.9791\n",
      "Epoch 6/20\n",
      "1500/1500 [==============================] - 28s 19ms/step - loss: 0.0892 - accuracy: 0.9732 - val_loss: 0.0759 - val_accuracy: 0.9787\n",
      "Epoch 7/20\n",
      "1500/1500 [==============================] - 35s 23ms/step - loss: 0.0840 - accuracy: 0.9749 - val_loss: 0.0770 - val_accuracy: 0.9789\n"
     ]
    },
    {
     "data": {
      "text/plain": [
       "<keras.src.callbacks.History at 0x19585e06800>"
      ]
     },
     "execution_count": 30,
     "metadata": {},
     "output_type": "execute_result"
    }
   ],
   "source": [
    "# building models\n",
    "model = tf.keras.models.Sequential()\n",
    "model.add(tf.keras.layers.Flatten(input_shape=(28, 28, 1)))\n",
    "model.add(tf.keras.layers.Dense(256, activation='relu'))\n",
    "model.add(tf.keras.layers.Dropout(0.5))\n",
    "model.add(tf.keras.layers.Dense(128, activation='relu'))\n",
    "model.add(tf.keras.layers.Dropout(0.5))\n",
    "model.add(tf.keras.layers.Dense(10, activation='softmax'))\n",
    "\n",
    "model.compile(optimizer=Adam(learning_rate=0.001), loss='sparse_categorical_crossentropy', metrics=['accuracy'])\n",
    "\n",
    "datagen = ImageDataGenerator(rotation_range=10, zoom_range=0.1, width_shift_range=0.1, height_shift_range=0.1)\n",
    "datagen.fit(X_train)\n",
    "\n",
    "model.fit(datagen.flow(X_train, y_train, batch_size=32), epochs=3)\n",
    "\n",
    "def lr_schedule(epoch):\n",
    "    return 0.001 * np.exp(-epoch / 10)\n",
    "\n",
    "model.fit(X_train, y_train, epochs=3, callbacks=[LearningRateScheduler(lr_schedule)])\n",
    "\n",
    "model.add(tf.keras.layers.BatchNormalization())\n",
    "\n",
    "early_stopping = EarlyStopping(monitor='val_loss', patience=3)\n",
    "model.fit(X_train, y_train, epochs=20, validation_data=(X_val, y_val), callbacks=[early_stopping])"
   ]
  },
  {
   "cell_type": "code",
   "execution_count": 31,
   "id": "877d5537",
   "metadata": {},
   "outputs": [
    {
     "name": "stdout",
     "output_type": "stream",
     "text": [
      "INFO:tensorflow:Assets written to: digit_recognization\\assets\n"
     ]
    },
    {
     "name": "stderr",
     "output_type": "stream",
     "text": [
      "INFO:tensorflow:Assets written to: digit_recognization\\assets\n"
     ]
    }
   ],
   "source": [
    "# saving model\n",
    "model.save('digit_recognization')"
   ]
  },
  {
   "cell_type": "code",
   "execution_count": null,
   "id": "fb040e7d",
   "metadata": {},
   "outputs": [],
   "source": []
  }
 ],
 "metadata": {
  "kernelspec": {
   "display_name": "Python 3 (ipykernel)",
   "language": "python",
   "name": "python3"
  },
  "language_info": {
   "codemirror_mode": {
    "name": "ipython",
    "version": 3
   },
   "file_extension": ".py",
   "mimetype": "text/x-python",
   "name": "python",
   "nbconvert_exporter": "python",
   "pygments_lexer": "ipython3",
   "version": "3.10.9"
  }
 },
 "nbformat": 4,
 "nbformat_minor": 5
}

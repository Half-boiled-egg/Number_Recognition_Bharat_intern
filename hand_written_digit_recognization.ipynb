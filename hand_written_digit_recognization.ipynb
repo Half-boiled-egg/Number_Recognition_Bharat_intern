{
 "cells": [
  {
   "cell_type": "code",
   "execution_count": 9,
   "id": "5e15d933",
   "metadata": {},
   "outputs": [],
   "source": [
    "# import required libraries \n",
    "import os\n",
    "import cv2\n",
    "import numpy as np\n",
    "import pandas as pd\n",
    "import matplotlib.pyplot as plt\n",
    "import tensorflow as tf"
   ]
  },
  {
   "cell_type": "code",
   "execution_count": 10,
   "id": "dc8f2b73",
   "metadata": {},
   "outputs": [
    {
     "name": "stdout",
     "output_type": "stream",
     "text": [
      "313/313 [==============================] - 5s 11ms/step - loss: 0.0731 - accuracy: 0.9782\n",
      "0.07312833517789841\n",
      "0.9782000184059143\n"
     ]
    }
   ],
   "source": [
    "mnist=tf.keras.datasets.mnist\n",
    "(X_train,y_train),(X_test,y_test)=mnist.load_data()\n",
    "X_train=tf.keras.utils.normalize(X_train,axis=1)\n",
    "X_test=tf.keras.utils.normalize(X_test,axis=1)\n",
    "# evaluate the model digit-recognization\n",
    "model=tf.keras.models.load_model('digit_recognization')\n",
    "\n",
    "loss, accuracy=model.evaluate(X_test, y_test)\n",
    "\n",
    "print(loss)\n",
    "print(accuracy )"
   ]
  },
  {
   "cell_type": "code",
   "execution_count": 14,
   "id": "0f113e52",
   "metadata": {},
   "outputs": [
    {
     "name": "stdout",
     "output_type": "stream",
     "text": [
      "1/1 [==============================] - 0s 141ms/step\n"
     ]
    },
    {
     "name": "stderr",
     "output_type": "stream",
     "text": [
      "C:\\Users\\Shouvik\\AppData\\Local\\Temp\\ipykernel_11944\\3398331426.py:24: DeprecationWarning: ANTIALIAS is deprecated and will be removed in Pillow 10 (2023-07-01). Use LANCZOS or Resampling.LANCZOS instead.\n",
      "  img = img.resize((300, 300), Image.ANTIALIAS)\n"
     ]
    },
    {
     "name": "stdout",
     "output_type": "stream",
     "text": [
      "1/1 [==============================] - 0s 71ms/step\n",
      "1/1 [==============================] - 0s 47ms/step\n",
      "1/1 [==============================] - 0s 62ms/step\n",
      "1/1 [==============================] - 0s 62ms/step\n",
      "1/1 [==============================] - 0s 62ms/step\n",
      "1/1 [==============================] - 0s 47ms/step\n",
      "1/1 [==============================] - 0s 49ms/step\n",
      "1/1 [==============================] - 0s 62ms/step\n",
      "1/1 [==============================] - 0s 47ms/step\n"
     ]
    }
   ],
   "source": [
    "import tkinter as tk\n",
    "from tkinter import filedialog\n",
    "from PIL import Image, ImageTk\n",
    "\n",
    "model=tf.keras.models.load_model('digit_recognization')\n",
    "\n",
    "def predict_digit(image_path):\n",
    "    try:\n",
    "        img = cv2.imread(image_path)[:, :, 0]\n",
    "        img = np.invert(np.array([img]))\n",
    "        prediction = model.predict(img)\n",
    "        digit_prediction = np.argmax(prediction)\n",
    "        return digit_prediction\n",
    "    except Exception as e:\n",
    "        print(\"Error:\", e)\n",
    "        return None\n",
    "\n",
    "def open_file():\n",
    "    file_path = filedialog.askopenfilename()\n",
    "    if file_path:\n",
    "        digit = predict_digit(file_path)\n",
    "        if digit is not None:\n",
    "            img = Image.open(file_path)\n",
    "            img = img.resize((300, 300), Image.ANTIALIAS)\n",
    "            img = ImageTk.PhotoImage(img)\n",
    "            panel = tk.Label(root, image=img)\n",
    "            panel.image = img\n",
    "            panel.pack()\n",
    "\n",
    "            result_label.config(text=f\"This digit is probably a {digit}\")\n",
    "\n",
    "\n",
    "root = tk.Tk()\n",
    "root.title(\"Digit Prediction\")\n",
    "\n",
    "open_button = tk.Button(root, text=\"Open Image\", command=open_file)\n",
    "open_button.pack()\n",
    "\n",
    "result_label = tk.Label(root, text=\"\")\n",
    "result_label.pack()\n",
    "\n",
    "root.mainloop()\n"
   ]
  },
  {
   "cell_type": "code",
   "execution_count": null,
   "id": "03708f5c",
   "metadata": {},
   "outputs": [],
   "source": []
  }
 ],
 "metadata": {
  "kernelspec": {
   "display_name": "Python 3 (ipykernel)",
   "language": "python",
   "name": "python3"
  },
  "language_info": {
   "codemirror_mode": {
    "name": "ipython",
    "version": 3
   },
   "file_extension": ".py",
   "mimetype": "text/x-python",
   "name": "python",
   "nbconvert_exporter": "python",
   "pygments_lexer": "ipython3",
   "version": "3.10.9"
  }
 },
 "nbformat": 4,
 "nbformat_minor": 5
}
